{
 "cells": [
  {
   "cell_type": "markdown",
   "metadata": {},
   "source": [
    "# Implementation notebook\n",
    "This notebook contains the implementation of AlgoView (IDK ABOUT THIS NAME HAHAH), an iterative, algorithm-based optimal view finder for cerebral aneurysms. The implementation is inspired by the optimal angle determination alorithm first described in CTA-based angle selection for diagnostic\n",
    "and interventional angiography of saccular intracranial\n",
    "aneurysms, by R. van der Weide et al. [1]."
   ]
  },
  {
   "cell_type": "markdown",
   "metadata": {},
   "source": [
    "##### Importing code necessary for implementation"
   ]
  },
  {
   "cell_type": "code",
   "execution_count": 1,
   "metadata": {},
   "outputs": [],
   "source": [
    "from IA_projection_optimizer import OptimalViewFinder as OptimalViewFinder\n",
    "from utils import select_input_path\n",
    "from utils import select_output_folder"
   ]
  },
  {
   "cell_type": "markdown",
   "metadata": {},
   "source": [
    "## Initialization\n",
    "By running the following cell, a windows explorer instance will pop up that allows for file selection. This file should be of niftii format, and contain the segmentation of brain vasculature and the aneurysm(s) of interest with values of 1 and 2 respectively. It will then create a class instance of the optimal view finder using the selected input file."
   ]
  },
  {
   "cell_type": "code",
   "execution_count": 2,
   "metadata": {},
   "outputs": [
    {
     "name": "stdout",
     "output_type": "stream",
     "text": [
      "OptimalviewFinder succesfully initialized, using input: C:/Users/20202310/Desktop/Vakken jaar 1/Mix team challenge/Practical assignment/DATA/Team challenge 2024/Aneurysm_TC_data/C0001/corrected_mask_C0001.nii\n"
     ]
    }
   ],
   "source": [
    "input_path = select_input_path() \n",
    "\n",
    "obj = OptimalViewFinder(input_path)"
   ]
  },
  {
   "cell_type": "markdown",
   "metadata": {},
   "source": [
    "# Preprocessing\n",
    "By running the following cell, all preprocessing steps necessary for succesful determination of the optimal projection angles are performed. The first step in preprocessing is isolating individual aneurysms when more than one is present in the segmentation. The following cell checks for multiple aneurysms in the image, and isolates them when necessary."
   ]
  },
  {
   "cell_type": "code",
   "execution_count": 3,
   "metadata": {},
   "outputs": [
    {
     "name": "stdout",
     "output_type": "stream",
     "text": [
      "Found 1 different aneurysms.\n",
      "Isolated aneurysm 1\n"
     ]
    }
   ],
   "source": [
    "isolated_aneurysms = obj.isolate_aneurysms()"
   ]
  },
  {
   "cell_type": "markdown",
   "metadata": {},
   "source": [
    "# Running modified vdweide model\n"
   ]
  },
  {
   "cell_type": "markdown",
   "metadata": {},
   "source": [
    "The following cell runs the modified vdWeide model."
   ]
  },
  {
   "cell_type": "code",
   "execution_count": 4,
   "metadata": {},
   "outputs": [
    {
     "name": "stdout",
     "output_type": "stream",
     "text": [
      "Running model for Aneurysm [1/1]\n",
      "===================================================================================\n",
      "RESULT OF AUTOMATIC PROJECTION ANGLE DETERMINATION VIA MODIFIED VDWEIDE MODEL.\n",
      "===================================================================================\n",
      "=Aneurysm [1/1]=\n",
      "Final optimal DSA Rotation Angle (ρ): 59.981399490882694°\n",
      "Final optimal DSA Angulation Angle (ψ): 33.302631661562096°\n",
      "===================================================================================\n",
      "\n"
     ]
    }
   ],
   "source": [
    "obj.run_modified_vdWeide_model(verbose=False)"
   ]
  },
  {
   "cell_type": "markdown",
   "metadata": {},
   "source": [
    "# Running iterative observer model"
   ]
  },
  {
   "cell_type": "markdown",
   "metadata": {},
   "source": [
    "The following cell runs the iterative observer model."
   ]
  },
  {
   "cell_type": "code",
   "execution_count": 5,
   "metadata": {},
   "outputs": [
    {
     "name": "stdout",
     "output_type": "stream",
     "text": [
      "Running model for Aneurysm [1/1]\n",
      "RESULT OF AUTOMATIC PROJECTION ANGLE DETERMINATION VIA ITERATIVE OBSERVER MODEL.\n",
      "===================================================================================\n",
      "=Aneurysm [1/1]=\n",
      "====================shortest_connection====================\n",
      "Final optimal DSA Rotation Angle (ρ): -23.806041781642225°\n",
      "Final optimal DSA Angulation Angle (ψ): 85.29470053965872°\n",
      "====================longest_connection====================\n",
      "Final optimal DSA Rotation Angle (ρ): 67.30912916489702°\n",
      "Final optimal DSA Angulation Angle (ψ): -25.89996839374327°\n",
      "====================largest_aneurysm====================\n",
      "Final optimal DSA Rotation Angle (ρ): -14.654221593693558°\n",
      "Final optimal DSA Angulation Angle (ψ): 81.01979804456066°\n",
      "===================================================================================\n",
      "\n"
     ]
    }
   ],
   "source": [
    "obj.run_iterative_observer_model(showimgs=False,its=36,verbose=False)"
   ]
  },
  {
   "cell_type": "markdown",
   "metadata": {},
   "source": [
    "# Exporting data\n",
    "The following cell saves the isolated aneurysms as a new segmentation file. This segmentation mask returns a value of 2 for the aneurysm of interest and a value of 1 of the vasculature and other aneurysm(s)."
   ]
  },
  {
   "cell_type": "code",
   "execution_count": 7,
   "metadata": {},
   "outputs": [
    {
     "name": "stdout",
     "output_type": "stream",
     "text": [
      "No folder selected, using default output\n"
     ]
    },
    {
     "ename": "FileNotFoundError",
     "evalue": "[WinError 3] The system cannot find the path specified: ''",
     "output_type": "error",
     "traceback": [
      "\u001b[31m---------------------------------------------------------------------------\u001b[39m",
      "\u001b[31mFileNotFoundError\u001b[39m                         Traceback (most recent call last)",
      "\u001b[36mCell\u001b[39m\u001b[36m \u001b[39m\u001b[32mIn[7]\u001b[39m\u001b[32m, line 3\u001b[39m\n\u001b[32m      1\u001b[39m output_folder = select_output_folder()\n\u001b[32m----> \u001b[39m\u001b[32m3\u001b[39m \u001b[43mobj\u001b[49m\u001b[43m.\u001b[49m\u001b[43mwrite_outputfile\u001b[49m\u001b[43m(\u001b[49m\u001b[43moutput_folder\u001b[49m\u001b[43m=\u001b[49m\u001b[43moutput_folder\u001b[49m\u001b[43m)\u001b[49m\n",
      "\u001b[36mFile \u001b[39m\u001b[32mc:\\Users\\20202310\\Desktop\\Vakken jaar 1\\Mix team challenge\\GitProject\\TC-code\\IA_projection_optimizer.py:198\u001b[39m, in \u001b[36mOptimalViewFinder.write_outputfile\u001b[39m\u001b[34m(self, output_folder)\u001b[39m\n\u001b[32m    196\u001b[39m \u001b[38;5;66;03m#If specified output_folder does not exist, it creates it.\u001b[39;00m\n\u001b[32m    197\u001b[39m \u001b[38;5;28;01mif\u001b[39;00m \u001b[38;5;129;01mnot\u001b[39;00m os.path.exists(output_folder):\n\u001b[32m--> \u001b[39m\u001b[32m198\u001b[39m     \u001b[43mos\u001b[49m\u001b[43m.\u001b[49m\u001b[43mmakedirs\u001b[49m\u001b[43m(\u001b[49m\u001b[43moutput_folder\u001b[49m\u001b[43m)\u001b[49m\n\u001b[32m    200\u001b[39m \u001b[38;5;66;03m#Determines final output path\u001b[39;00m\n\u001b[32m    201\u001b[39m \u001b[38;5;28mself\u001b[39m.output_path = \u001b[38;5;28mself\u001b[39m.output_folder+\u001b[33mf\u001b[39m\u001b[33m\"\u001b[39m\u001b[33m/Optimal_angle_ results_\u001b[39m\u001b[38;5;132;01m{\u001b[39;00mos.path.basename(\u001b[38;5;28mself\u001b[39m.input_path)\u001b[38;5;132;01m}\u001b[39;00m\u001b[33m.txt\u001b[39m\u001b[33m\"\u001b[39m\n",
      "\u001b[36mFile \u001b[39m\u001b[32m<frozen os>:225\u001b[39m, in \u001b[36mmakedirs\u001b[39m\u001b[34m(name, mode, exist_ok)\u001b[39m\n",
      "\u001b[31mFileNotFoundError\u001b[39m: [WinError 3] The system cannot find the path specified: ''"
     ]
    }
   ],
   "source": [
    "output_folder = select_output_folder()\n",
    "\n",
    "obj.write_outputfile(output_folder=output_folder)"
   ]
  }
 ],
 "metadata": {
  "kernelspec": {
   "display_name": ".venv",
   "language": "python",
   "name": "python3"
  },
  "language_info": {
   "codemirror_mode": {
    "name": "ipython",
    "version": 3
   },
   "file_extension": ".py",
   "mimetype": "text/x-python",
   "name": "python",
   "nbconvert_exporter": "python",
   "pygments_lexer": "ipython3",
   "version": "3.12.3"
  }
 },
 "nbformat": 4,
 "nbformat_minor": 2
}
