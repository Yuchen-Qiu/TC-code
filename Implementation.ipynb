{
 "cells": [
  {
   "cell_type": "markdown",
   "metadata": {},
   "source": [
    "# Implementation notebook\n",
    "This notebook contains the implementation of AlgoView (IDK ABOUT THIS NAME HAHAH), an iterative, algorithm-based optimal view finder for cerebral aneurysms. The implementation is inspired by the optimal angle determination alorithm first described in CTA-based angle selection for diagnostic\n",
    "and interventional angiography of saccular intracranial\n",
    "aneurysms, by R. van der Weide et al. [1]."
   ]
  },
  {
   "cell_type": "markdown",
   "metadata": {},
   "source": [
    "##### Importing code necessary for implementation"
   ]
  },
  {
   "cell_type": "code",
   "execution_count": 1,
   "metadata": {},
   "outputs": [],
   "source": [
    "from IA_projection_optimizer import OptimalViewFinder as OptimalViewFinder\n",
    "from utils import select_input_path\n",
    "from utils import select_output_folder"
   ]
  },
  {
   "cell_type": "markdown",
   "metadata": {},
   "source": [
    "## Initialization\n",
    "By running the following cell, a windows explorer instance will pop up that allows for file selection. This file should be of niftii format, and contain the segmentation of brain vasculature and the aneurysm(s) of interest with values of 1 and 2 respectively. It will then create a class instance of the optimal view finder using the selected input file."
   ]
  },
  {
   "cell_type": "code",
   "execution_count": 2,
   "metadata": {},
   "outputs": [
    {
     "name": "stdout",
     "output_type": "stream",
     "text": [
      "OptimalviewFinder succesfully initialized, using input: C:/Users/20202310/Desktop/Vakken jaar 1/Mix team challenge/Practical assignment/DATA/Team challenge 2024/Aneurysm_TC_data/C0001/corrected_mask_C0001.nii\n"
     ]
    }
   ],
   "source": [
    "input_path = select_input_path() \n",
    "\n",
    "obj = OptimalViewFinder(input_path)"
   ]
  },
  {
   "cell_type": "markdown",
   "metadata": {},
   "source": [
    "# Preprocessing\n",
    "The following cell runs all preprocessing steps necessary for optimal projection angle determination. Currently the only preprocessing step necessary is aneurysm isolation in case more than one aneurysm exist in the same segmentation mask. More preprocessing steps could be added in the future."
   ]
  },
  {
   "cell_type": "code",
   "execution_count": 3,
   "metadata": {},
   "outputs": [
    {
     "name": "stdout",
     "output_type": "stream",
     "text": [
      "Found 1 different aneurysms.\n",
      "Isolated aneurysm 1\n"
     ]
    }
   ],
   "source": [
    "isolated_aneurysms = obj.isolate_aneurysms()"
   ]
  },
  {
   "cell_type": "markdown",
   "metadata": {},
   "source": [
    "# Running virtual aneurysm spectator model"
   ]
  },
  {
   "cell_type": "markdown",
   "metadata": {},
   "source": [
    "<div style=\"text-align: center;\">\n",
    "  <img src=\"Images/VASMODEL.png\" width=\"800\">\n",
    "</div>"
   ]
  },
  {
   "cell_type": "markdown",
   "metadata": {},
   "source": [
    "The following cell runs the Virtual Aneurysm Spectator (VAS) Model "
   ]
  },
  {
   "cell_type": "code",
   "execution_count": 4,
   "metadata": {},
   "outputs": [
    {
     "name": "stdout",
     "output_type": "stream",
     "text": [
      "Running model for Aneurysm [1/1]\n",
      "===================================================================================\n",
      "RESULT OF AUTOMATIC PROJECTION ANGLE DETERMINATION VIA VIRTUAL ANEURYSM SPECTATOR (VAS) MODEL.\n",
      "===================================================================================\n",
      "=Aneurysm [1/1]=\n",
      "Final optimal DSA Rotation Angle (ρ): 59.981399490882694°\n",
      "Final optimal DSA Angulation Angle (ψ): 33.302631661562096°\n",
      "===================================================================================\n",
      "\n"
     ]
    }
   ],
   "source": [
    "obj.run_VAS_model(verbose=False)"
   ]
  },
  {
   "cell_type": "markdown",
   "metadata": {},
   "source": [
    "# Running iterative observer model"
   ]
  },
  {
   "cell_type": "markdown",
   "metadata": {},
   "source": [
    "<div style=\"text-align: center;\">\n",
    "  <img src=\"Images/ITERATIVEOBSERVER.png\" width=\"800\">\n",
    "</div>"
   ]
  },
  {
   "cell_type": "markdown",
   "metadata": {},
   "source": [
    "The following cell runs the iterative observer model."
   ]
  },
  {
   "cell_type": "code",
   "execution_count": 5,
   "metadata": {},
   "outputs": [
    {
     "name": "stdout",
     "output_type": "stream",
     "text": [
      "Running model for Aneurysm [1/1]\n",
      "RESULT OF AUTOMATIC PROJECTION ANGLE DETERMINATION VIA ITERATIVE OBSERVER MODEL.\n",
      "===================================================================================\n",
      "=Aneurysm [1/1]=\n",
      "====================shortest_connection====================\n",
      "Final optimal DSA Rotation Angle (ρ): -23.806041781642225°\n",
      "Final optimal DSA Angulation Angle (ψ): 85.29470053965872°\n",
      "====================longest_connection====================\n",
      "Final optimal DSA Rotation Angle (ρ): 67.30912916489702°\n",
      "Final optimal DSA Angulation Angle (ψ): -25.89996839374327°\n",
      "====================largest_aneurysm====================\n",
      "Final optimal DSA Rotation Angle (ρ): -14.654221593693558°\n",
      "Final optimal DSA Angulation Angle (ψ): 81.01979804456066°\n",
      "===================================================================================\n",
      "\n"
     ]
    }
   ],
   "source": [
    "obj.run_iterative_observer_model(showimgs=False,its=36,verbose=False)"
   ]
  },
  {
   "cell_type": "markdown",
   "metadata": {},
   "source": [
    "# Exporting data\n",
    "The following cell exports the rotation and angulation anlges determined by the VAS model and Iterative Observer model (if applicable). NOTE: when running the cell, a windows explorer window will pop up, allowing for manual output folder selection. Closing this window without selecting an outputfolder will result in the generation of a default results folder inside of the parent directory of the chosen input file."
   ]
  },
  {
   "cell_type": "code",
   "execution_count": 6,
   "metadata": {},
   "outputs": [],
   "source": [
    "output_folder = select_output_folder()\n",
    "\n",
    "obj.write_outputfile(output_folder=output_folder)"
   ]
  }
 ],
 "metadata": {
  "kernelspec": {
   "display_name": ".venv",
   "language": "python",
   "name": "python3"
  },
  "language_info": {
   "codemirror_mode": {
    "name": "ipython",
    "version": 3
   },
   "file_extension": ".py",
   "mimetype": "text/x-python",
   "name": "python",
   "nbconvert_exporter": "python",
   "pygments_lexer": "ipython3",
   "version": "3.12.3"
  }
 },
 "nbformat": 4,
 "nbformat_minor": 2
}
